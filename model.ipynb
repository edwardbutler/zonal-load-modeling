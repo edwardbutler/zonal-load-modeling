{
 "cells": [
  {
   "cell_type": "code",
   "execution_count": 5,
   "metadata": {
    "collapsed": true
   },
   "outputs": [],
   "source": [
    "import pandas as pd\n",
    "from pandas import Series, DataFrame\n",
    "import numpy as np\n",
    "import sqlite3"
   ]
  },
  {
   "cell_type": "code",
   "execution_count": 10,
   "metadata": {},
   "outputs": [
    {
     "data": {
      "text/html": [
       "<div>\n",
       "<style>\n",
       "    .dataframe thead tr:only-child th {\n",
       "        text-align: right;\n",
       "    }\n",
       "\n",
       "    .dataframe thead th {\n",
       "        text-align: left;\n",
       "    }\n",
       "\n",
       "    .dataframe tbody tr th {\n",
       "        vertical-align: top;\n",
       "    }\n",
       "</style>\n",
       "<table border=\"1\" class=\"dataframe\">\n",
       "  <thead>\n",
       "    <tr style=\"text-align: right;\">\n",
       "      <th></th>\n",
       "      <th>index</th>\n",
       "      <th>Date</th>\n",
       "      <th>COAST</th>\n",
       "      <th>EAST</th>\n",
       "      <th>FAR_WEST</th>\n",
       "      <th>NORTH</th>\n",
       "      <th>NORTH_C</th>\n",
       "      <th>SOUTHERN</th>\n",
       "      <th>SOUTH_C</th>\n",
       "      <th>WEST</th>\n",
       "      <th>KDAL_TemperatureF</th>\n",
       "      <th>KHOU_TemperatureF</th>\n",
       "      <th>KSAT_TemperatureF</th>\n",
       "    </tr>\n",
       "  </thead>\n",
       "  <tbody>\n",
       "    <tr>\n",
       "      <th>0</th>\n",
       "      <td>0</td>\n",
       "      <td>2014-01-01 00:00:00</td>\n",
       "      <td>8913.01</td>\n",
       "      <td>1491.29</td>\n",
       "      <td>1783.56</td>\n",
       "      <td>968.27</td>\n",
       "      <td>11923.53</td>\n",
       "      <td>3230.89</td>\n",
       "      <td>6191.00</td>\n",
       "      <td>1312.92</td>\n",
       "      <td>68.0</td>\n",
       "      <td>62.1</td>\n",
       "      <td>60.1</td>\n",
       "    </tr>\n",
       "    <tr>\n",
       "      <th>1</th>\n",
       "      <td>1</td>\n",
       "      <td>2014-01-01 07:00:00</td>\n",
       "      <td>8665.54</td>\n",
       "      <td>1588.44</td>\n",
       "      <td>1819.77</td>\n",
       "      <td>1074.47</td>\n",
       "      <td>13154.07</td>\n",
       "      <td>3155.70</td>\n",
       "      <td>6492.82</td>\n",
       "      <td>1443.59</td>\n",
       "      <td>39.9</td>\n",
       "      <td>48.0</td>\n",
       "      <td>43.0</td>\n",
       "    </tr>\n",
       "    <tr>\n",
       "      <th>2</th>\n",
       "      <td>2</td>\n",
       "      <td>2014-01-01 08:00:00</td>\n",
       "      <td>8661.20</td>\n",
       "      <td>1573.47</td>\n",
       "      <td>1818.99</td>\n",
       "      <td>1064.53</td>\n",
       "      <td>12956.24</td>\n",
       "      <td>3159.13</td>\n",
       "      <td>6427.81</td>\n",
       "      <td>1425.48</td>\n",
       "      <td>39.0</td>\n",
       "      <td>48.0</td>\n",
       "      <td>41.0</td>\n",
       "    </tr>\n",
       "    <tr>\n",
       "      <th>3</th>\n",
       "      <td>3</td>\n",
       "      <td>2014-01-01 09:00:00</td>\n",
       "      <td>8778.05</td>\n",
       "      <td>1531.44</td>\n",
       "      <td>1784.43</td>\n",
       "      <td>1048.56</td>\n",
       "      <td>12628.14</td>\n",
       "      <td>3200.12</td>\n",
       "      <td>6206.40</td>\n",
       "      <td>1366.63</td>\n",
       "      <td>37.9</td>\n",
       "      <td>48.0</td>\n",
       "      <td>42.1</td>\n",
       "    </tr>\n",
       "    <tr>\n",
       "      <th>4</th>\n",
       "      <td>4</td>\n",
       "      <td>2014-01-01 10:00:00</td>\n",
       "      <td>8759.46</td>\n",
       "      <td>1459.10</td>\n",
       "      <td>1774.87</td>\n",
       "      <td>999.31</td>\n",
       "      <td>12160.81</td>\n",
       "      <td>3201.32</td>\n",
       "      <td>6065.07</td>\n",
       "      <td>1297.79</td>\n",
       "      <td>37.9</td>\n",
       "      <td>48.0</td>\n",
       "      <td>45.0</td>\n",
       "    </tr>\n",
       "  </tbody>\n",
       "</table>\n",
       "</div>"
      ],
      "text/plain": [
       "   index                 Date    COAST     EAST  FAR_WEST    NORTH   NORTH_C  \\\n",
       "0      0  2014-01-01 00:00:00  8913.01  1491.29   1783.56   968.27  11923.53   \n",
       "1      1  2014-01-01 07:00:00  8665.54  1588.44   1819.77  1074.47  13154.07   \n",
       "2      2  2014-01-01 08:00:00  8661.20  1573.47   1818.99  1064.53  12956.24   \n",
       "3      3  2014-01-01 09:00:00  8778.05  1531.44   1784.43  1048.56  12628.14   \n",
       "4      4  2014-01-01 10:00:00  8759.46  1459.10   1774.87   999.31  12160.81   \n",
       "\n",
       "   SOUTHERN  SOUTH_C     WEST  KDAL_TemperatureF  KHOU_TemperatureF  \\\n",
       "0   3230.89  6191.00  1312.92               68.0               62.1   \n",
       "1   3155.70  6492.82  1443.59               39.9               48.0   \n",
       "2   3159.13  6427.81  1425.48               39.0               48.0   \n",
       "3   3200.12  6206.40  1366.63               37.9               48.0   \n",
       "4   3201.32  6065.07  1297.79               37.9               48.0   \n",
       "\n",
       "   KSAT_TemperatureF  \n",
       "0               60.1  \n",
       "1               43.0  \n",
       "2               41.0  \n",
       "3               42.1  \n",
       "4               45.0  "
      ]
     },
     "execution_count": 10,
     "metadata": {},
     "output_type": "execute_result"
    }
   ],
   "source": [
    "# Read DF from SQLite DB\n",
    "conn = sqlite3.connect(\"finals.db\")\n",
    "df = pd.read_sql_query(\"SELECT * FROM results\", conn)\n",
    "df.head()"
   ]
  },
  {
   "cell_type": "code",
   "execution_count": 21,
   "metadata": {},
   "outputs": [
    {
     "data": {
      "text/plain": [
       "dtype('O')"
      ]
     },
     "execution_count": 21,
     "metadata": {},
     "output_type": "execute_result"
    }
   ],
   "source": [
    "# Select for COAST and HOUSTON, for instance\n",
    "df = df[[\"Date\", \"COAST\", \"KDAL_TemperatureF\"]]\n",
    "df[\"Date\"].dtype"
   ]
  }
 ],
 "metadata": {
  "kernelspec": {
   "display_name": "Python 2",
   "language": "python",
   "name": "python2"
  },
  "language_info": {
   "codemirror_mode": {
    "name": "ipython",
    "version": 2
   },
   "file_extension": ".py",
   "mimetype": "text/x-python",
   "name": "python",
   "nbconvert_exporter": "python",
   "pygments_lexer": "ipython2",
   "version": "2.7.14"
  }
 },
 "nbformat": 4,
 "nbformat_minor": 2
}
